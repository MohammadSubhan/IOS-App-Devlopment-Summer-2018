{
 "cells": [
  {
   "cell_type": "code",
   "execution_count": 1,
   "metadata": {},
   "outputs": [
    {
     "name": "stdout",
     "output_type": "stream",
     "text": [
      "Accuracy of current predictions: 0.7333333333333333\n",
      "Accuracy of current predictions: 0.6\n",
      "Accuracy of current predictions: 0.8\n",
      "Accuracy of current predictions: 0.26666666666666666\n",
      "Accuracy of current predictions: 0.4\n"
     ]
    }
   ],
   "source": [
    "import sklearn\n",
    "import pandas as pd\n",
    "from sklearn.linear_model import Perceptron\n",
    "from sklearn.metrics import accuracy_score\n",
    "from sklearn.metrics import classification_report,confusion_matrix\n",
    "\n",
    "def show_results(y_test, predict_test):\n",
    "    curAccuracy = str(accuracy_score(y_test, predict_test))\n",
    "    print(\"Accuracy of current predictions: \" + curAccuracy)\n",
    "    \n",
    "\n",
    "def load_training_data():\n",
    "    training_data_2014 = pd.read_csv('datasets/training_data/2014_2015_training_data.csv') \n",
    "    training_data_2015 = pd.read_csv('datasets/training_data/2015_2016_training_data.csv')\n",
    "    training_data_2016 = pd.read_csv('datasets/training_data/2016_2017_training_data.csv')\n",
    "    training_data_2017 = pd.read_csv('datasets/training_data/2017_2018_training_data.csv') \n",
    "    training_data_2018 = pd.read_csv('datasets/training_data/2018_2019_training_data.csv') \n",
    "    return [training_data_2014, training_data_2015, training_data_2016, training_data_2017, training_data_2018]\n",
    "\n",
    "def load_testing_data():\n",
    "    testing_data_2014 = pd.read_csv('datasets/testing_data/2014_2015_testing_data.csv') \n",
    "    testing_data_2015 = pd.read_csv('datasets/testing_data/2015_2016_testing_data.csv') \n",
    "    testing_data_2016 = pd.read_csv('datasets/testing_data/2016_2017_testing_data.csv') \n",
    "    testing_data_2017 = pd.read_csv('datasets/testing_data/2017_2018_testing_data.csv') \n",
    "    testing_data_2018 = pd.read_csv('datasets/testing_data/2018_2019_testing_data.csv') \n",
    "    return [testing_data_2014, testing_data_2015, testing_data_2016, testing_data_2017, testing_data_2018]\n",
    "\n",
    "def train_and_test_on_individual_seasons_and_playoffs(all_training_data, all_testing_data, numSamples):\n",
    "    for i in range(numSamples):\n",
    "        #train new MLP on current season of preseason and regular season game stats and outcomes\n",
    "        training_data = all_training_data[i]\n",
    "        predictors = sorted(list(set(list(training_data.columns))-set(target_column)))\n",
    "        clf = Perceptron(random_state=856)\n",
    "        training_data[predictors] = training_data[predictors]/training_data[predictors].max() #normalize values\n",
    "        X_train = training_data[predictors].values\n",
    "        y_train = training_data[target_column].values\n",
    "        clf.fit(X_train,y_train.ravel())\n",
    "        #test new MLP on current season of playoff game stats to see prediction of outcomes\n",
    "        testing_data = all_testing_data[i]\n",
    "        testing_data[predictors] = testing_data[predictors]/testing_data[predictors].max()\n",
    "        X_test = testing_data[predictors].values\n",
    "        y_test = testing_data[target_column].values\n",
    "        predict_test = clf.predict(X_test)\n",
    "        show_results(y_test, predict_test)\n",
    "        \n",
    "target_column = [\"Top_Team_Won\"]\n",
    "all_training_data = load_training_data()\n",
    "all_testing_data = load_testing_data() \n",
    "numSamples = len(all_testing_data)\n",
    "train_and_test_on_individual_seasons_and_playoffs(all_training_data, all_testing_data, numSamples)"
   ]
  },
  {
   "cell_type": "code",
   "execution_count": null,
   "metadata": {},
   "outputs": [],
   "source": []
  }
 ],
 "metadata": {
  "kernelspec": {
   "display_name": "Python 3",
   "language": "python",
   "name": "python3"
  },
  "language_info": {
   "codemirror_mode": {
    "name": "ipython",
    "version": 3
   },
   "file_extension": ".py",
   "mimetype": "text/x-python",
   "name": "python",
   "nbconvert_exporter": "python",
   "pygments_lexer": "ipython3",
   "version": "3.7.3"
  }
 },
 "nbformat": 4,
 "nbformat_minor": 2
}
